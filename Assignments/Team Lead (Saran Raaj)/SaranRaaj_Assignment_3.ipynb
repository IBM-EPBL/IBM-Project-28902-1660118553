{
  "cells": [
    {
      "cell_type": "markdown",
      "source": [
        "Assignment 3\n",
        "\n",
        "Answer the questions or complete the tasks outlined in bold below, use the specific method described if applicable.\n",
        "\n",
        "Question 1:\n",
        "\n",
        "** What is 7 to the power of 4?**\n"
      ],
      "metadata": {
        "id": "RQQRLG6OjiHJ"
      }
    },
    {
      "cell_type": "code",
      "source": [
        "base = 7\n",
        "exponent = 4\n",
        "\n",
        "result = pow(base, exponent)\n",
        "\n",
        "print(\"Answer = \" + str(result))"
      ],
      "metadata": {
        "id": "gKKsqKuPjeWz",
        "outputId": "32c080df-3a58-4030-febd-a399a8180b4b",
        "colab": {
          "base_uri": "https://localhost:8080/"
        }
      },
      "execution_count": null,
      "outputs": [
        {
          "output_type": "stream",
          "name": "stdout",
          "text": [
            "Answer = 2401\n"
          ]
        }
      ]
    },
    {
      "cell_type": "markdown",
      "source": [
        "Question 2:\n",
        "\n",
        "** Split this string:**\n",
        "\n",
        "s = \"Hi there, Iam Saran!\"\n",
        "\n",
        "into a list."
      ],
      "metadata": {
        "id": "mezqe6a7kugh"
      }
    },
    {
      "cell_type": "code",
      "source": [
        "s=\"Hi there, Iam Saran\"\n",
        "print(\"Answer = \"+str(s.split()))"
      ],
      "metadata": {
        "id": "SKKbtioNkz2_",
        "outputId": "a94d6413-4fc5-452e-ff9e-29a2b8a2470d",
        "colab": {
          "base_uri": "https://localhost:8080/"
        }
      },
      "execution_count": null,
      "outputs": [
        {
          "output_type": "stream",
          "name": "stdout",
          "text": [
            "Answer = ['Hi', 'there,', 'Iam', 'Saran']\n"
          ]
        }
      ]
    },
    {
      "cell_type": "markdown",
      "source": [
        "Question 3: \n",
        "\n",
        "** Given the variables:**\n",
        "\n",
        "planet = \"Earth\"\n",
        "diameter = 12742\n",
        "\n",
        "** Use .format() to print the following string: **\n",
        "\n",
        "The diameter of Earth is 12742 kilometers."
      ],
      "metadata": {
        "id": "Q7BMT7c2lK3c"
      }
    },
    {
      "cell_type": "code",
      "source": [
        "planet = \"Earth\"\n",
        "diameter=\"The diameter of {} is 12742 kilometers\".format(planet)\n",
        "print(\"Answer = \"+str(diameter))"
      ],
      "metadata": {
        "id": "qjiJDqoOlijF",
        "outputId": "5cb19fb9-f3b7-4719-c5f7-e0c0863bef69",
        "colab": {
          "base_uri": "https://localhost:8080/"
        }
      },
      "execution_count": null,
      "outputs": [
        {
          "output_type": "stream",
          "name": "stdout",
          "text": [
            "Answer = The diameter of Earth is 12742 kilometers\n"
          ]
        }
      ]
    },
    {
      "cell_type": "markdown",
      "source": [
        "Question 4: \n",
        "\n",
        "** Given this nested list, use indexing to grab the word \"hello\" **"
      ],
      "metadata": {
        "id": "Ku-NKqKgly-3"
      }
    },
    {
      "cell_type": "code",
      "source": [
        "lst = [1,2,[3,4],[5,[100,200,['hello']],23,11],1,7]\n",
        "print(\"Answer = \"+str(lst[3][1][2]))"
      ],
      "metadata": {
        "id": "sM8A3Ll4lnWG",
        "outputId": "dcf6cb52-28d4-4e40-a0a5-5986059b39c5",
        "colab": {
          "base_uri": "https://localhost:8080/"
        }
      },
      "execution_count": null,
      "outputs": [
        {
          "output_type": "stream",
          "name": "stdout",
          "text": [
            "Answer = ['hello']\n"
          ]
        }
      ]
    },
    {
      "cell_type": "markdown",
      "source": [
        "Question 5:\n",
        "\n",
        "** Given this nest dictionary grab the word \"hello\". Be prepared, this will be annoying/tricky **"
      ],
      "metadata": {
        "id": "Nsqik6somKMQ"
      }
    },
    {
      "cell_type": "code",
      "source": [
        "d = {'k1':[1,2,3,{'tricky':['oh','man','inception',{'target':[1,2,3,'hello']}]}]}\n",
        "print(\"Answer = \"+str(d[\"k1\"][3][\"tricky\"][3][\"target\"][3]))"
      ],
      "metadata": {
        "id": "F9YnVoIGmUFY",
        "outputId": "4810b277-9e1b-4591-8966-616cc911e72c",
        "colab": {
          "base_uri": "https://localhost:8080/"
        }
      },
      "execution_count": null,
      "outputs": [
        {
          "output_type": "stream",
          "name": "stdout",
          "text": [
            "Answer = hello\n"
          ]
        }
      ]
    },
    {
      "cell_type": "markdown",
      "source": [
        "Question 6:\n",
        "\n",
        "** What is the main difference between a tuple and a list? **"
      ],
      "metadata": {
        "id": "pZKEvw1um3Sd"
      }
    },
    {
      "cell_type": "markdown",
      "source": [
        "  Lists:\n",
        "\n",
        "  Lists are mutable\n",
        "  \n",
        "  The implication of iterations is Time-consuming\t\n",
        "  \tLists consume more memory\t\\\n",
        "  \n",
        "  The list is better for performing operations, such     as    insertion and deletion.\n",
        "  \n",
        "  Tuples :\n",
        "\n",
        "Tuples are immutable\n",
        "  Tuple consumes less memory as compared to the list\n",
        "\n",
        "  The implication of iterations is comparatively Faster\n",
        "\n",
        "  Tuple data type is appropriate for accessing the       elements"
      ],
      "metadata": {
        "id": "lOKbItLcnEXu"
      }
    },
    {
      "cell_type": "markdown",
      "source": [
        "Question 7:\n",
        "  \n",
        "** Create a function that grabs the email website domain from a string in the form: **\n",
        "\n",
        "user@domain.com\n",
        "\n",
        "So for example, passing \"user@domain.com\" would return: domain.com\n",
        "\n"
      ],
      "metadata": {
        "id": "qnRPjNkZnFJN"
      }
    },
    {
      "cell_type": "code",
      "source": [
        "def domainGet(email):\n",
        "    print(\"Your domain is: \" + email.split('@')[-1])\n",
        "\n",
        "email = input(\"Please enter your email: >\")\n",
        "domainGet(email)"
      ],
      "metadata": {
        "id": "DkAUeZt0m_Ah",
        "outputId": "8ea5cbd6-1ae0-4c1a-ae6d-4ba0a6f9d110",
        "colab": {
          "base_uri": "https://localhost:8080/"
        }
      },
      "execution_count": null,
      "outputs": [
        {
          "output_type": "stream",
          "name": "stdout",
          "text": [
            "Please enter your email: >user@domain.com\n",
            "Your domain is: domain.com\n"
          ]
        }
      ]
    },
    {
      "cell_type": "markdown",
      "source": [
        "Question 8 :\n",
        "\n",
        "** Create a basic function that returns True if the word 'dog' is contained in the input string. Don't worry about edge cases like a punctuation being attached to the word dog, but do account for capitalization. **"
      ],
      "metadata": {
        "id": "kQBWF1M8nb3H"
      }
    },
    {
      "cell_type": "code",
      "source": [
        "def findDog(st):\n",
        "    if 'dog' in st.lower():\n",
        "        print(\"True\")\n",
        "    else:\n",
        "        print(\"False\")"
      ],
      "metadata": {
        "id": "2YFnDNA0nluX"
      },
      "execution_count": null,
      "outputs": []
    },
    {
      "cell_type": "code",
      "source": [
        "st = \"I am with my dog in the beach\"\n",
        "findDog(st)"
      ],
      "metadata": {
        "id": "zEFA40Emnwei",
        "outputId": "f8566227-c706-4c9a-b76e-788ed1a3f2d7",
        "colab": {
          "base_uri": "https://localhost:8080/"
        }
      },
      "execution_count": null,
      "outputs": [
        {
          "output_type": "stream",
          "name": "stdout",
          "text": [
            "True\n"
          ]
        }
      ]
    },
    {
      "cell_type": "markdown",
      "source": [
        "Question 9 :\n",
        "\n",
        "** Create a function that counts the number of times the word \"dog\" occurs in a string. Again ignore edge cases. **"
      ],
      "metadata": {
        "id": "zJFRFXi1n860"
      }
    },
    {
      "cell_type": "code",
      "source": [
        "value = \"My moms's dogs won't eat dry dog food\";\n",
        "print(\"Count of word Dog in given string \")\n",
        "(countdogs(value))\n",
        "def countdogs(value):\n",
        "    count = 0\n",
        "    for word in value.lower().split():\n",
        "        if word == 'dog' or word == 'dogs':\n",
        "            count = count + 1\n",
        "            \n",
        "    print(count)\n"
      ],
      "metadata": {
        "id": "Ny7e_3f8n3JR",
        "outputId": "00547be1-7c3f-4f43-f382-61fb9a488a7e",
        "colab": {
          "base_uri": "https://localhost:8080/"
        }
      },
      "execution_count": null,
      "outputs": [
        {
          "output_type": "stream",
          "name": "stdout",
          "text": [
            "Count of word Dog in given string \n",
            "2\n"
          ]
        }
      ]
    },
    {
      "cell_type": "markdown",
      "source": [
        "Question 10 :\n",
        "\n",
        "You are driving a little too fast, and a police officer stops you. Write a function to return one of 3 possible results: \"No ticket\", \"Small ticket\", or \"Big Ticket\". If your speed is 60 or less, the result is \"No Ticket\". If speed is between 61 and 80 inclusive, the result is \"Small Ticket\". If speed is 81 or more, the result is \"Big Ticket\". Unless it is your birthday (encoded as a boolean value in the parameters of the function) -- on your birthday, your speed can be 5 higher in all cases."
      ],
      "metadata": {
        "id": "sS52S1SdomY8"
      }
    },
    {
      "cell_type": "code",
      "source": [
        "def caught_speeding(speed, is_birthday):\n",
        "    \n",
        "    if is_birthday:\n",
        "        speeding = speed - 5\n",
        "    else:\n",
        "        speeding = speed\n",
        "    \n",
        "    if speeding > 80:\n",
        "        return 'Big Ticket'\n",
        "    elif speeding > 60:\n",
        "        return 'Small Ticket'\n",
        "    else:\n",
        "        return 'No Ticket'\n",
        "\n",
        "\n"
      ],
      "metadata": {
        "id": "K1HF2YEKoqqP"
      },
      "execution_count": null,
      "outputs": []
    },
    {
      "cell_type": "code",
      "source": [
        "caught_speeding(91,False)\n",
        "\n",
        "speed=\"Your speed is more than 81\"\n",
        "caught_speeding(81,True)"
      ],
      "metadata": {
        "id": "3gnRRUAao6zz",
        "outputId": "2e4d2cd8-c839-4395-d47f-16d803fccf45",
        "colab": {
          "base_uri": "https://localhost:8080/",
          "height": 35
        }
      },
      "execution_count": null,
      "outputs": [
        {
          "output_type": "execute_result",
          "data": {
            "text/plain": [
              "'Small Ticket'"
            ],
            "application/vnd.google.colaboratory.intrinsic+json": {
              "type": "string"
            }
          },
          "metadata": {},
          "execution_count": 29
        }
      ]
    },
    {
      "cell_type": "markdown",
      "source": [
        "Question 11 :\n",
        "\n",
        "Create an employee list with basic salary values(at least 5 values for 5 employees) and using a for loop retreive each employee salary and calculate total salary expenditure."
      ],
      "metadata": {
        "id": "1t3Rr9rXozsY"
      }
    },
    {
      "cell_type": "code",
      "source": [
        "employee_names = [\"Saran\", \"Sanjay\", \"Ranjith\", \"Sanjeev\", \"Madhav\"]\n",
        "employee_salaries = {}\n",
        "for employee in employee_names:\n",
        "    while True: # Input validation loop\n",
        "        try:\n",
        "            employee_salaries[employee] = int(input(f\"Enter {employee}'s salary: \")) \n",
        "            break\n",
        "        except ValueError:\n",
        "            print(\"Invalid input\")\n",
        "    print(employee_salaries)\n",
        "    total = sum(employee_salaries.values())\n",
        "    print(total)"
      ],
      "metadata": {
        "id": "yCy1kGV1pl1u",
        "outputId": "9870d1fe-3200-4325-b13e-92e6bee80e52",
        "colab": {
          "base_uri": "https://localhost:8080/"
        }
      },
      "execution_count": null,
      "outputs": [
        {
          "output_type": "stream",
          "name": "stdout",
          "text": [
            "Enter Saran's salary: 43000\n",
            "{'Saran': 43000}\n",
            "43000\n",
            "Enter Sanjay's salary: 34000\n",
            "{'Saran': 43000, 'Sanjay': 34000}\n",
            "77000\n",
            "Enter Ranjith's salary: 23000\n",
            "{'Saran': 43000, 'Sanjay': 34000, 'Ranjith': 23000}\n",
            "100000\n",
            "Enter Sanjeev's salary: 23000\n",
            "{'Saran': 43000, 'Sanjay': 34000, 'Ranjith': 23000, 'Sanjeev': 23000}\n",
            "123000\n",
            "Enter Madhav's salary: 52000\n",
            "{'Saran': 43000, 'Sanjay': 34000, 'Ranjith': 23000, 'Sanjeev': 23000, 'Madhav': 52000}\n",
            "175000\n"
          ]
        }
      ]
    },
    {
      "cell_type": "markdown",
      "source": [
        "Question 12 :\n",
        "\n",
        "Create two dictionaries in Python:\n",
        "\n",
        "First one to contain fields as Empid, Empname, Basicpay\n",
        "\n",
        "Second dictionary to contain fields as DeptName, DeptId.\n",
        "\n",
        "Combine both dictionaries."
      ],
      "metadata": {
        "id": "FtkxBgBAqqf5"
      }
    },
    {
      "cell_type": "code",
      "source": [
        "e1={\"Employeeid\":101,\n",
        "    \"Employeename\":'Saran', \n",
        "    \"Basicpay\":25000}\n",
        "e2={\"DeptName\":'CSE',  \n",
        "    \"DeptId\":301}\n",
        "\n",
        "print({**e1, **e2})"
      ],
      "metadata": {
        "id": "x6ipAEH7qtib",
        "outputId": "84d00257-ae51-4c76-d348-1a8d9a8ab854",
        "colab": {
          "base_uri": "https://localhost:8080/"
        }
      },
      "execution_count": null,
      "outputs": [
        {
          "output_type": "stream",
          "name": "stdout",
          "text": [
            "{'Employeeid': 101, 'Employeename': 'Saran', 'Basicpay': 25000, 'DeptName': 'CSE', 'DeptId': 301}\n"
          ]
        }
      ]
    }
  ],
  "metadata": {
    "colab": {
      "collapsed_sections": [],
      "provenance": []
    },
    "kernelspec": {
      "display_name": "Python 3",
      "name": "python3"
    }
  },
  "nbformat": 4,
  "nbformat_minor": 0
}